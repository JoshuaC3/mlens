{
 "cells": [
  {
   "cell_type": "markdown",
   "metadata": {},
   "source": [
    "# Python Stacked Ensemble Benchmarks\n",
    "\n",
    "The aim of this notebook is to identify some different python stacking packages, compare their performances to mlens and take note of their differing functionality. There are many more ensembling packages available but these were picked as they were well maintained and had an SKLearn style APIs."
   ]
  },
  {
   "cell_type": "code",
   "execution_count": 20,
   "metadata": {
    "ExecuteTime": {
     "end_time": "2017-11-06T22:26:11.209657Z",
     "start_time": "2017-11-06T22:26:11.191020Z"
    }
   },
   "outputs": [],
   "source": [
    "import warnings\n",
    "import numpy as np\n",
    "import pandas as pd\n",
    "import xgboost as xgb\n",
    "import lightgbm as lgb\n",
    "import matplotlib.pylab as plt\n",
    "\n",
    "from sklearn import datasets\n",
    "from sklearn.metrics import mean_squared_error as mse\n",
    "from sklearn.linear_model import LinearRegression\n",
    "from sklearn.model_selection import train_test_split\n",
    "from sklearn.model_selection import cross_val_score as cvs\n",
    "\n",
    "from mlxtend.regressor import StackingRegressor as mlx_StackingRegressor\n",
    "\n",
    "from mlens.metrics import make_scorer\n",
    "from mlens.ensemble import SuperLearner\n",
    "from mlens.model_selection import Evaluator\n",
    "\n",
    "from mlbox import StackingRegressor as mlb_StackingRegressor\n",
    "\n",
    "warnings.filterwarnings('ignore')"
   ]
  },
  {
   "cell_type": "code",
   "execution_count": 2,
   "metadata": {
    "ExecuteTime": {
     "end_time": "2017-11-05T16:26:14.204319Z",
     "start_time": "2017-11-05T16:26:14.150278Z"
    }
   },
   "outputs": [],
   "source": [
    "data = datasets.california_housing.fetch_california_housing()\n",
    "\n",
    "X, y = data['data'], data['target']\n",
    "X_train, X_test, y_train, y_test = train_test_split(X, y, test_size=0.2,\n",
    "                                                    train_size=0.8, random_state=321)"
   ]
  },
  {
   "cell_type": "markdown",
   "metadata": {},
   "source": [
    "### Establish some Individual Model Benchmarks\n",
    "\n",
    "Try Linear Regression, XGBoost and LightGBM as they are well known machine learning models."
   ]
  },
  {
   "cell_type": "code",
   "execution_count": 21,
   "metadata": {
    "ExecuteTime": {
     "end_time": "2017-11-06T22:27:24.158394Z",
     "start_time": "2017-11-06T22:27:24.140660Z"
    }
   },
   "outputs": [
    {
     "data": {
      "text/plain": [
       "0.58740384298451276"
      ]
     },
     "execution_count": 21,
     "metadata": {},
     "output_type": "execute_result"
    }
   ],
   "source": [
    "lr = LinearRegression()\n",
    "lr.fit(X_train, y_train)\n",
    "mse(y_test, lr.predict(X_test))"
   ]
  },
  {
   "cell_type": "code",
   "execution_count": 22,
   "metadata": {
    "ExecuteTime": {
     "end_time": "2017-11-06T22:27:24.738374Z",
     "start_time": "2017-11-06T22:27:24.391040Z"
    }
   },
   "outputs": [
    {
     "data": {
      "text/plain": [
       "0.30695328973624081"
      ]
     },
     "execution_count": 22,
     "metadata": {},
     "output_type": "execute_result"
    }
   ],
   "source": [
    "xgbr = xgb.XGBRegressor()\n",
    "xgbr.fit(X_train, y_train)\n",
    "mse(y_test, xgbr.predict(X_test))"
   ]
  },
  {
   "cell_type": "code",
   "execution_count": 23,
   "metadata": {
    "ExecuteTime": {
     "end_time": "2017-11-06T22:27:25.280027Z",
     "start_time": "2017-11-06T22:27:25.184839Z"
    }
   },
   "outputs": [
    {
     "data": {
      "text/plain": [
       "0.3001026140472941"
      ]
     },
     "execution_count": 23,
     "metadata": {},
     "output_type": "execute_result"
    }
   ],
   "source": [
    "lgbr = lgb.LGBMRegressor(n_estimators=30)\n",
    "lgbr.fit(X_train, y_train)\n",
    "mse(y_test, lgbr.predict(X_test))"
   ]
  },
  {
   "cell_type": "markdown",
   "metadata": {},
   "source": [
    "### Test some Python packages with Ensembling functionality.\n",
    "\n",
    "Here we start with the simple but very useful [Mlxtend](https://github.com/rasbt/mlxtend). Despite its name it is not stacking in the truest sense (or at least a [Super Learner](http://mlens.readthedocs.io/en/0.1.x/ensembles.html#id4)) as the meta-models are not fitted on the holdout predictions from k-fold cv in the previous layers."
   ]
  },
  {
   "cell_type": "code",
   "execution_count": 14,
   "metadata": {
    "ExecuteTime": {
     "end_time": "2017-11-05T17:32:51.069405Z",
     "start_time": "2017-11-05T17:32:51.052925Z"
    }
   },
   "outputs": [],
   "source": [
    "def print_scores(scores_df, name):\n",
    "    print(\"Train Mean Squared Error: %.4f\"\n",
    "          % scores_df.loc['train', name])\n",
    "\n",
    "    print(\"Train CV mean: %.4f\"\n",
    "          % scores_df.loc['mean_cv', name])\n",
    "\n",
    "    print(\"Train CV std: %.4f\"\n",
    "          % scores_df.loc['std_cv', name])\n",
    "\n",
    "    print(\"Test Mean Squared Error: %.4f\"\n",
    "          % scores_df.loc['test', name])"
   ]
  },
  {
   "cell_type": "code",
   "execution_count": 15,
   "metadata": {
    "ExecuteTime": {
     "end_time": "2017-11-05T17:32:55.132844Z",
     "start_time": "2017-11-05T17:32:53.325561Z"
    }
   },
   "outputs": [
    {
     "name": "stdout",
     "output_type": "stream",
     "text": [
      "Train Mean Squared Error: 0.2316\n",
      "Train CV mean: 0.2622\n",
      "Train CV std: 0.0097\n",
      "Test Mean Squared Error: 0.2924\n"
     ]
    }
   ],
   "source": [
    "stregr = mlx_StackingRegressor(regressors=[lgbr, xgbr],\n",
    "                               meta_regressor=lr)\n",
    "scores = cvs(stregr, X_train, y_train, cv=5, scoring='neg_mean_squared_error')\n",
    "stregr.fit(X_train, y_train)\n",
    "\n",
    "scores_df = pd.DataFrame(index=['train', 'mean_cv', 'std_cv', 'test'])\n",
    "scores_df['mlxtend'] = [mse(y_train, stregr.predict(X_train)), -scores.mean(),\n",
    "                        scores.std(), mse(y_test, stregr.predict(X_test))]\n",
    "\n",
    "print_scores(scores_df, 'mlxtend')"
   ]
  },
  {
   "cell_type": "markdown",
   "metadata": {},
   "source": [
    "Let's compare these results to an mlens SuperLearner. In order to calculate cv-scores for the SuperLearner we use the `Evaluate` function."
   ]
  },
  {
   "cell_type": "code",
   "execution_count": 16,
   "metadata": {
    "ExecuteTime": {
     "end_time": "2017-11-05T17:50:36.448120Z",
     "start_time": "2017-11-05T17:50:27.475015Z"
    }
   },
   "outputs": [
    {
     "name": "stderr",
     "output_type": "stream",
     "text": [
      "/usr/local/lib/python3.5/dist-packages/mlens/model_selection/model_selection.py:486: UserWarning: No valid parameters found for superlearner. Will fit and score once with given parameter settings.\n",
      "  \"settings.\".format(key))\n"
     ]
    },
    {
     "name": "stdout",
     "output_type": "stream",
     "text": [
      "Train Mean Squared Error: 0.2321\n",
      "Train CV mean: 0.2612\n",
      "Train CV std: 0.0094\n",
      "Test Mean Squared Error: 0.2916\n"
     ]
    }
   ],
   "source": [
    "ensemble = SuperLearner(folds=5, scorer=mse)\n",
    "ensemble.add([xgb.XGBRegressor(), lgb.LGBMRegressor(n_estimators=30)])\n",
    "ensemble.add_meta([LinearRegression()])\n",
    "\n",
    "evl = Evaluator(make_scorer(mse), cv=5, shuffle=False)\n",
    "evl.fit(X_train, y_train, ensemble, {}, n_iter=1)\n",
    "\n",
    "ensemble.fit(X_train, y_train)\n",
    "\n",
    "scores_df['mlens'] = [mse(y_train, ensemble.predict(X_train)),\n",
    "                      evl.summary['test_score_mean']['superlearner'],\n",
    "                      evl.summary['test_score_std']['superlearner'],\n",
    "                      mse(y_test, ensemble.predict(X_test))]\n",
    "\n",
    "print_scores(scores_df, 'mlens')"
   ]
  },
  {
   "cell_type": "markdown",
   "metadata": {},
   "source": [
    "Now we can try a similar approach with [MLBox](https://github.com/AxeldeRomblay/MLBox). This package is powerful but is aimed more at parameter searches over the whole pipeline rather than ensembling. As a result it does not have a method for outputting the fold scores so that we can get `mean` and `std` cv-scores."
   ]
  },
  {
   "cell_type": "code",
   "execution_count": 17,
   "metadata": {
    "ExecuteTime": {
     "end_time": "2017-11-05T17:50:52.263285Z",
     "start_time": "2017-11-05T17:50:49.954033Z"
    }
   },
   "outputs": [
    {
     "name": "stdout",
     "output_type": "stream",
     "text": [
      "\n",
      "[=============================================================================] LAYER [===================================================================================]\n",
      "\n",
      "> fitting estimator n°1 : {'subsample': 1, 'silent': True, 'min_child_weight': 1, 'reg_alpha': 0, 'max_delta_step': 0, 'reg_lambda': 1, 'nthread': -1, 'seed': 0, 'base_score': 0.5, 'colsample_bytree': 1, 'max_depth': 3, 'colsample_bylevel': 1, 'objective': 'reg:linear', 'missing': None, 'gamma': 0, 'scale_pos_weight': 1, 'learning_rate': 0.1, 'n_estimators': 100} ...\n",
      "\n",
      "> fitting estimator n°2 : {'seed': 0, 'subsample': 1, 'boosting_type': 'gbdt', 'subsample_freq': 1, 'reg_alpha': 0, 'max_bin': 255, 'reg_lambda': 0, 'nthread': -1, 'objective': 'regression', 'min_split_gain': 0, 'num_leaves': 31, 'n_estimators': 30, 'min_child_samples': 10, 'min_child_weight': 5, 'learning_rate': 0.1, 'silent': True, 'max_depth': -1, 'subsample_for_bin': 50000, 'colsample_bytree': 1} ...\n",
      "\n",
      "\n",
      "[=========================================================================] PREDICTION LAYER [============================================================================]\n",
      "\n",
      "> fitting estimator : {'normalize': False, 'fit_intercept': True, 'n_jobs': 1, 'copy_X': True} ...\n",
      "\n",
      "Train Mean Squared Error: 0.2318\n",
      "Train CV mean: nan\n",
      "Train CV std: nan\n",
      "Test Mean Squared Error: 0.2918\n"
     ]
    }
   ],
   "source": [
    "mlbs = mlb_StackingRegressor(base_estimators=[xgb.XGBRegressor(), lgb.LGBMRegressor(n_estimators=30)],\n",
    "                             level_estimator=LinearRegression())\n",
    "mlbs.fit(pd.DataFrame(X_train), pd.Series(y_train))\n",
    "\n",
    "scores_df['mlbox'] = [mse(pd.Series(y_train), mlbs.predict(pd.DataFrame(X_train))),\n",
    "                      np.nan, np.nan,\n",
    "                      mse(pd.Series(y_test), mlbs.predict(pd.DataFrame(X_test)))]\n",
    "\n",
    "print_scores(scores_df, 'mlbox')"
   ]
  },
  {
   "cell_type": "markdown",
   "metadata": {},
   "source": [
    "Lastly we run the [vecstack](https://github.com/vecxoz/vecstack) ensemble. This package does not run as the previous three packages do, with an estimator object. This package creates the training and hold out test sets of each estimator. This shifts complexity to the user but would allow some added flexibility."
   ]
  },
  {
   "cell_type": "code",
   "execution_count": 18,
   "metadata": {
    "ExecuteTime": {
     "end_time": "2017-11-05T17:51:09.089365Z",
     "start_time": "2017-11-05T17:51:06.823958Z"
    }
   },
   "outputs": [
    {
     "name": "stdout",
     "output_type": "stream",
     "text": [
      "Train Mean Squared Error: 0.2317\n",
      "Train CV mean: 0.2612\n",
      "Train CV std: 0.0094\n",
      "Test Mean Squared Error: 0.2919\n"
     ]
    }
   ],
   "source": [
    "from vecstack import stacking\n",
    "\n",
    "S_train, S_test = stacking([xgb.XGBRegressor(), lgb.LGBMRegressor(n_estimators=30)],\n",
    "                            X_train, y_train, X_test, n_folds=5, metric=mse)\n",
    "\n",
    "_, X_train_test = stacking([xgb.XGBRegressor(), lgb.LGBMRegressor(n_estimators=30)],\n",
    "                            X_train, y_train, X_train, n_folds=5, metric=mse)\n",
    "\n",
    "lr = LinearRegression()\n",
    "lr = lr.fit(S_train, y_train)\n",
    "\n",
    "re_split = [mse(y_i_train, lr.predict(X_i_train))\n",
    "            for y_i_train, X_i_train in zip(np.array_split(y_train, 5, axis=0),\n",
    "                                            np.array_split(S_train, 5, axis=0))]\n",
    "\n",
    "scores_df['vecstack'] = [mse(y_train, lr.predict(X_train_test)),\n",
    "                      np.mean(re_split), np.std(re_split),\n",
    "                      mse(pd.Series(y_test), lr.predict((S_test)))]\n",
    "\n",
    "print_scores(scores_df, 'vecstack')"
   ]
  },
  {
   "cell_type": "code",
   "execution_count": 19,
   "metadata": {
    "ExecuteTime": {
     "end_time": "2017-11-05T17:51:18.833985Z",
     "start_time": "2017-11-05T17:51:18.645068Z"
    }
   },
   "outputs": [
    {
     "data": {
      "image/png": "[encoded data removed]",
      "text/plain": [
       "<matplotlib.figure.Figure at 0x7ffb05d34630>"
      ]
     },
     "metadata": {},
     "output_type": "display_data"
    }
   ],
   "source": [
    "%matplotlib inline\n",
    "plt.rcParams['figure.figsize'] = 16, 8\n",
    "\n",
    "fig, ax = plt.subplots()\n",
    "\n",
    "scores_df.loc['idx', :] = range(4)\n",
    "scores_df.T.plot.scatter('idx', 'train', c='b', ax=ax)\n",
    "scores_df.T.plot.scatter('idx', 'mean_cv', c='r', ax=ax, yerr='std_cv')\n",
    "scores_df.T.plot.scatter('idx', 'test', c='g', ax=ax)\n",
    "\n",
    "plt.xlim(-0.5, None)\n",
    "plt.xticks(range(4), scores_df.columns)\n",
    "plt.show()"
   ]
  },
  {
   "cell_type": "markdown",
   "metadata": {},
   "source": [
    "# Conclusion\n",
    "From this comparison, we can see that each stacking packages gave very similar results. Mlxtend did behave slightly differently as it is not a Super Learner ensemble, but even this is barely noticeable in the above scatter plot. The main differences in the packages are how you can go about building upon these models to create a more accurate model. This will be analysed in the following notebook."
   ]
  }
 ],
 "metadata": {
  "kernelspec": {
   "display_name": "Python 3",
   "language": "python",
   "name": "python3"
  },
  "language_info": {
   "codemirror_mode": {
    "name": "ipython",
    "version": 3
   },
   "file_extension": ".py",
   "mimetype": "text/x-python",
   "name": "python",
   "nbconvert_exporter": "python",
   "pygments_lexer": "ipython3",
   "version": "3.5.2"
  },
  "varInspector": {
   "cols": {
    "lenName": 16,
    "lenType": 16,
    "lenVar": 40
   },
   "kernels_config": {
    "python": {
     "delete_cmd_postfix": "",
     "delete_cmd_prefix": "del ",
     "library": "var_list.py",
     "varRefreshCmd": "print(var_dic_list())"
    },
    "r": {
     "delete_cmd_postfix": ") ",
     "delete_cmd_prefix": "rm(",
     "library": "var_list.r",
     "varRefreshCmd": "cat(var_dic_list()) "
    }
   },
   "types_to_exclude": [
    "module",
    "function",
    "builtin_function_or_method",
    "instance",
    "_Feature"
   ],
   "window_display": false
  }
 },
 "nbformat": 4,
 "nbformat_minor": 2
}
